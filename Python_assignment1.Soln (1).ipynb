{
 "cells": [
  {
   "cell_type": "code",
   "execution_count": 3,
   "id": "3e6eb04d",
   "metadata": {},
   "outputs": [
    {
     "name": "stdout",
     "output_type": "stream",
     "text": [
      "[1505, 1540, 1575, 1610, 1645, 1680, 1715, 1750, 1785, 1820, 1855, 1890, 1925, 1960, 1995, 2030, 2065, 2100, 2135, 2170, 2205, 2240, 2275, 2310, 2345, 2380, 2415, 2450, 2485, 2520, 2555, 2590, 2625, 2660, 2695]\n"
     ]
    }
   ],
   "source": [
    "#Q.1.Write a Python program to find those numbers which are divisible by 7 and mujltiple of 5, between 1500 and 2700(both included) \n",
    "answer=[]\n",
    "for i in range(1500,2701):\n",
    "    if (i%7==0) & (i%5==0):\n",
    "        answer.append(i)\n",
    "    else:\n",
    "        pass\n",
    "print(answer)"
   ]
  },
  {
   "cell_type": "code",
   "execution_count": 4,
   "id": "e3f77776",
   "metadata": {},
   "outputs": [
    {
     "data": {
      "text/plain": [
       "5"
      ]
     },
     "execution_count": 4,
     "metadata": {},
     "output_type": "execute_result"
    }
   ],
   "source": [
    "#Q.2.Python program to add two numbers\n",
    "def summ(x,y):\n",
    "    c=x+y\n",
    "    return c\n",
    "summ(2,3)"
   ]
  },
  {
   "cell_type": "code",
   "execution_count": 5,
   "id": "fd51c54b",
   "metadata": {},
   "outputs": [
    {
     "data": {
      "text/plain": [
       "3"
      ]
     },
     "execution_count": 5,
     "metadata": {},
     "output_type": "execute_result"
    }
   ],
   "source": [
    "#Q.3.Maximum of two numbers in Python\n",
    "def maxi(a,b):\n",
    "    if a>b:\n",
    "        return a\n",
    "    else:\n",
    "        return b\n",
    "maxi(2,3)"
   ]
  },
  {
   "cell_type": "code",
   "execution_count": 6,
   "id": "8d8931d8",
   "metadata": {},
   "outputs": [
    {
     "data": {
      "text/plain": [
       "120"
      ]
     },
     "execution_count": 6,
     "metadata": {},
     "output_type": "execute_result"
    }
   ],
   "source": [
    "#Q.4.Python program for factorial of a number\n",
    "def factorial(n):\n",
    "    a=1\n",
    "    for i in range(1,n+1):\n",
    "        a=a*i\n",
    "    return a\n",
    "factorial(5)"
   ]
  },
  {
   "cell_type": "code",
   "execution_count": 7,
   "id": "f339d10f",
   "metadata": {},
   "outputs": [
    {
     "data": {
      "text/plain": [
       "1400.0"
      ]
     },
     "execution_count": 7,
     "metadata": {},
     "output_type": "execute_result"
    }
   ],
   "source": [
    "#Q.5.Python program for Simple interest\n",
    "def simple_interest(p,r,n):\n",
    "    a=p*(1+(r*n)/100)\n",
    "    return a\n",
    "simple_interest(p=1000,r=10,n=4)"
   ]
  },
  {
   "cell_type": "code",
   "execution_count": 8,
   "id": "557e7043",
   "metadata": {},
   "outputs": [
    {
     "data": {
      "text/plain": [
       "1727.9999999999998"
      ]
     },
     "execution_count": 8,
     "metadata": {},
     "output_type": "execute_result"
    }
   ],
   "source": [
    "#Q.6.Python program for compound interest\n",
    "def compound_interest(p,r,n):\n",
    "    a=p*(1+r/100)**n\n",
    "    return a\n",
    "compound_interest(p=1000,r=20,n=3)   "
   ]
  },
  {
   "cell_type": "code",
   "execution_count": 9,
   "id": "65496a6b",
   "metadata": {},
   "outputs": [
    {
     "name": "stdout",
     "output_type": "stream",
     "text": [
      "n123\n",
      "Not an Armstrong number\n"
     ]
    }
   ],
   "source": [
    "#Q.7.Python program to check Armstrong Number\n",
    "n=input(\"n\")\n",
    "m=len(n)\n",
    "a=0\n",
    "for i in n:\n",
    "    a=a+(int(i)**m)\n",
    "if a==int(n) :\n",
    "    print(\"Armstrong number\")\n",
    "else:\n",
    "    print(\"Not an Armstrong number\")"
   ]
  },
  {
   "cell_type": "code",
   "execution_count": 10,
   "id": "f799d09d",
   "metadata": {},
   "outputs": [
    {
     "data": {
      "text/plain": [
       "78.5"
      ]
     },
     "execution_count": 10,
     "metadata": {},
     "output_type": "execute_result"
    }
   ],
   "source": [
    "#Q.8.Python program to find area of a circle\n",
    "def circle_area(r):\n",
    "    pi=3.14\n",
    "    area=pi*(r**2)\n",
    "    return area\n",
    "circle_area(5)"
   ]
  },
  {
   "cell_type": "code",
   "execution_count": 11,
   "id": "3154036d",
   "metadata": {},
   "outputs": [
    {
     "data": {
      "text/plain": [
       "[2, 3, 5, 7, 11, 13, 17, 19]"
      ]
     },
     "execution_count": 11,
     "metadata": {},
     "output_type": "execute_result"
    }
   ],
   "source": [
    "#Q.9.Python program to print all prime numbers in an interval\n",
    "def prime_numbers(u,v):\n",
    "    prime=[]\n",
    "    for i in range (u,v):\n",
    "        if i==0 or i==1:\n",
    "            continue\n",
    "        else:\n",
    "            for j in range(2,i):\n",
    "                if i%j==0:\n",
    "                    break\n",
    "            else:\n",
    "                prime.append(i)  \n",
    "    return((prime))\n",
    "prime_numbers(1,20)"
   ]
  },
  {
   "cell_type": "code",
   "execution_count": 12,
   "id": "66dbbd8a",
   "metadata": {},
   "outputs": [
    {
     "name": "stdout",
     "output_type": "stream",
     "text": [
      "Not a Prime number\n"
     ]
    }
   ],
   "source": [
    "#Q.10.Python program to check whether a number is prime or not\n",
    "def check_prime(n):\n",
    "    if n==0 or n==1:\n",
    "        print('Not a Prime number')\n",
    "    else:\n",
    "        for i in range(2,n):\n",
    "            if n%i==0:\n",
    "                print('Not a Prime number')\n",
    "                break\n",
    "        else:\n",
    "            print('This is a Prime number')\n",
    "check_prime(10)          "
   ]
  }
 ],
 "metadata": {
  "kernelspec": {
   "display_name": "Python 3 (ipykernel)",
   "language": "python",
   "name": "python3"
  },
  "language_info": {
   "codemirror_mode": {
    "name": "ipython",
    "version": 3
   },
   "file_extension": ".py",
   "mimetype": "text/x-python",
   "name": "python",
   "nbconvert_exporter": "python",
   "pygments_lexer": "ipython3",
   "version": "3.9.7"
  }
 },
 "nbformat": 4,
 "nbformat_minor": 5
}
